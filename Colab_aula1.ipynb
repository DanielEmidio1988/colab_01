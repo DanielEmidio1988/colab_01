{
  "nbformat": 4,
  "nbformat_minor": 0,
  "metadata": {
    "colab": {
      "provenance": []
    },
    "kernelspec": {
      "name": "python3",
      "display_name": "Python 3"
    },
    "language_info": {
      "name": "python"
    }
  },
  "cells": [
    {
      "cell_type": "markdown",
      "source": [],
      "metadata": {
        "id": "e6PJOU6jTEDU"
      }
    },
    {
      "cell_type": "code",
      "execution_count": 2,
      "metadata": {
        "id": "D555yFbqJ5t5"
      },
      "outputs": [],
      "source": [
        "!pip install -q -U google-generativeai"
      ]
    },
    {
      "cell_type": "code",
      "source": [
        "#import the Python SDK\n",
        "import google.generativeai as genai\n",
        "from google.colab import userdata\n",
        "api_key = userdata.get('SECRET_KEY')\n",
        "genai.configure(api_key=api_key)"
      ],
      "metadata": {
        "id": "g6UW2-mYQ4mu"
      },
      "execution_count": 14,
      "outputs": []
    },
    {
      "cell_type": "code",
      "source": [
        "for m in genai.list_models():\n",
        "  if 'generateContent' in m.supported_generation_methods:\n",
        "    print(m.name)"
      ],
      "metadata": {
        "colab": {
          "base_uri": "https://localhost:8080/",
          "height": 139
        },
        "id": "B2qkLZDHRFGT",
        "outputId": "90be80ab-2bf1-4ba7-e8bd-6fe5b4355336"
      },
      "execution_count": 4,
      "outputs": [
        {
          "output_type": "stream",
          "name": "stdout",
          "text": [
            "models/gemini-1.0-pro\n",
            "models/gemini-1.0-pro-001\n",
            "models/gemini-1.0-pro-latest\n",
            "models/gemini-1.0-pro-vision-latest\n",
            "models/gemini-1.5-pro-latest\n",
            "models/gemini-pro\n",
            "models/gemini-pro-vision\n"
          ]
        }
      ]
    },
    {
      "cell_type": "code",
      "source": [
        "generation_config = {\n",
        "    \"candidate_count\": 1,\n",
        "    \"temperature\": 0.5,\n",
        "}"
      ],
      "metadata": {
        "id": "1Rw45O7CRK6q"
      },
      "execution_count": 5,
      "outputs": []
    },
    {
      "cell_type": "code",
      "source": [
        "safety_settings = {\n",
        "    \"HARASSMENT\": \"BLOCK_NONE\",\n",
        "    \"HATE\": \"BLOCK_NONE\",\n",
        "    \"SEXUAL\": \"BLOCK_NONE\",\n",
        "    \"DANGEROUS\": \"BLOCK_NONE\"\n",
        "}"
      ],
      "metadata": {
        "id": "jy0upZysRNnD"
      },
      "execution_count": 6,
      "outputs": []
    },
    {
      "cell_type": "code",
      "source": [
        "model = genai.GenerativeModel(model_name=\"gemini-1.0-pro\",\n",
        "                              generation_config=generation_config,\n",
        "                              safety_settings=safety_settings)"
      ],
      "metadata": {
        "id": "1uW7PdKARQF9"
      },
      "execution_count": 7,
      "outputs": []
    },
    {
      "cell_type": "code",
      "source": [
        "response = model.generate_content(\"Vamos aprender conteúdo sobre IA. Me dê sugestões\")\n",
        "print(response.text)"
      ],
      "metadata": {
        "colab": {
          "base_uri": "https://localhost:8080/",
          "height": 677
        },
        "id": "tFfDTa4lRXms",
        "outputId": "4235615e-530d-4728-9129-32820ddddfa0"
      },
      "execution_count": 8,
      "outputs": [
        {
          "output_type": "stream",
          "name": "stdout",
          "text": [
            "**Conceitos Fundamentais**\n",
            "\n",
            "* Definição e histórico da IA\n",
            "* Tipos de IA (Aprendizado de Máquina, Aprendizado Profundo, Processamento de Linguagem Natural)\n",
            "* Algoritmos e técnicas de IA\n",
            "* Ética e implicações sociais da IA\n",
            "\n",
            "**Aprendizado de Máquina**\n",
            "\n",
            "* Tipos de aprendizado de máquina (Supervisionado, Não Supervisionado, por Reforço)\n",
            "* Modelos de aprendizado de máquina (Árvores de Decisão, Redes Neurais, Máquinas de Vetores de Suporte)\n",
            "* Avaliação e otimização de modelos\n",
            "\n",
            "**Aprendizado Profundo**\n",
            "\n",
            "* Redes Neurais Artificiais (NNAs)\n",
            "* Arquiteturas de NNAs (CNNs, RNNs, Transformers)\n",
            "* Treinamento e otimização de NNAs\n",
            "\n",
            "**Processamento de Linguagem Natural (PNL)**\n",
            "\n",
            "* Conceitos básicos de PNL (Tokenização, Stemming, Lematização)\n",
            "* Modelos de PNL (Modelos de Linguagem, Embeddings de Palavras)\n",
            "* Tarefas de PNL (Classificação de Texto, Geração de Linguagem)\n",
            "\n",
            "**Aplicações da IA**\n",
            "\n",
            "* IA na saúde (Diagnóstico, Tratamento, Pesquisa)\n",
            "* IA nas finanças (Análise de Mercado, Gestão de Risco)\n",
            "* IA na manufatura (Automação, Otimização de Processos)\n",
            "* IA no varejo (Recomendações de Produtos, Detecção de Fraude)\n",
            "\n",
            "**Recursos de Aprendizagem**\n",
            "\n",
            "* Cursos online (Coursera, edX, Udacity)\n",
            "* Tutoriais e artigos (TensorFlow, PyTorch, Scikit-learn)\n",
            "* Comunidades e fóruns (Stack Overflow, Reddit)\n",
            "* Livros e publicações (Deep Learning, Machine Learning Yearning)\n"
          ]
        }
      ]
    },
    {
      "cell_type": "code",
      "source": [
        "chat = model.start_chat(history=[])"
      ],
      "metadata": {
        "id": "us9Ey9TNRclM"
      },
      "execution_count": 9,
      "outputs": []
    },
    {
      "cell_type": "code",
      "source": [
        "prompt = input(\"Esperando prompt: \")\n",
        "\n",
        "while prompt != \"fim\":\n",
        "  response= chat.send_message(prompt)\n",
        "  print(\"Resposta: \", response.text, \"\\n\")\n",
        "  prompt = input(\"Esperando prompt: \")"
      ],
      "metadata": {
        "colab": {
          "base_uri": "https://localhost:8080/",
          "height": 573
        },
        "id": "9AyCKhhYRhis",
        "outputId": "3fc5319d-c001-4bea-a988-8d77b95e3b62"
      },
      "execution_count": 10,
      "outputs": [
        {
          "name": "stdout",
          "output_type": "stream",
          "text": [
            "Esperando prompt: Quantos paises existem na America Latina?\n",
            "Resposta:  20 \n",
            "\n",
            "Esperando prompt: Liste o Presidente atual de cada um destes paises\n",
            "Resposta:  **País** | **Presidente Atual**\n",
            "------- | --------\n",
            "Argentina | Alberto Fernández\n",
            "Bolívia | Luis Arce\n",
            "Brasil | Luiz Inácio Lula da Silva\n",
            "Chile | Gabriel Boric\n",
            "Colômbia | Gustavo Petro\n",
            "Costa Rica | Rodrigo Chaves Robles\n",
            "Cuba | Miguel Díaz-Canel\n",
            "Equador | Guillermo Lasso\n",
            "El Salvador | Nayib Bukele\n",
            "Guatemala | Alejandro Giammattei\n",
            "Guiana | Irfaan Ali\n",
            "Haiti | Ariel Henry (interino)\n",
            "Honduras | Xiomara Castro\n",
            "Jamaica | Andrew Holness\n",
            "México | Andrés Manuel López Obrador\n",
            "Nicarágua | Daniel Ortega\n",
            "Panamá | Laurentino Cortizo\n",
            "Paraguai | Mario Abdo Benítez\n",
            "Peru | Dina Boluarte (interina)\n",
            "República Dominicana | Luis Abinader\n",
            "Suriname | Chandrikapersad Santokhi\n",
            "Trinidad e Tobago | Keith Rowley\n",
            "Uruguai | Luis Lacalle Pou\n",
            "Venezuela | Nicolás Maduro \n",
            "\n",
            "Esperando prompt: fim\n"
          ]
        }
      ]
    },
    {
      "cell_type": "code",
      "source": [
        "import textwrap\n",
        "from IPython.display import display\n",
        "from IPython.display import Markdown\n",
        "\n",
        "def to_markdown(text):\n",
        "  text = text.replace('•', '  *')\n",
        "  return Markdown(textwrap.indent(text, '> ', predicate=lambda _: True))\n",
        "\n",
        "#Imprimindo o histórico:\n",
        "for message in chat.history:\n",
        "  display(to_markdown(f'**{message.role}**: {message.parts[0].text}'))\n",
        "  print('-'*100)"
      ],
      "metadata": {
        "colab": {
          "base_uri": "https://localhost:8080/",
          "height": 1000
        },
        "id": "MCl_vFjERvYS",
        "outputId": "e9c161d8-ca58-4f03-c51e-632f5b18dcf8"
      },
      "execution_count": 15,
      "outputs": [
        {
          "output_type": "display_data",
          "data": {
            "text/plain": [
              "<IPython.core.display.Markdown object>"
            ],
            "text/markdown": "> **user**: Quantos paises existem na America Latina?"
          },
          "metadata": {}
        },
        {
          "output_type": "stream",
          "name": "stdout",
          "text": [
            "----------------------------------------------------------------------------------------------------\n"
          ]
        },
        {
          "output_type": "display_data",
          "data": {
            "text/plain": [
              "<IPython.core.display.Markdown object>"
            ],
            "text/markdown": "> **model**: 20"
          },
          "metadata": {}
        },
        {
          "output_type": "stream",
          "name": "stdout",
          "text": [
            "----------------------------------------------------------------------------------------------------\n"
          ]
        },
        {
          "output_type": "display_data",
          "data": {
            "text/plain": [
              "<IPython.core.display.Markdown object>"
            ],
            "text/markdown": "> **user**: Liste o Presidente atual de cada um destes paises"
          },
          "metadata": {}
        },
        {
          "output_type": "stream",
          "name": "stdout",
          "text": [
            "----------------------------------------------------------------------------------------------------\n"
          ]
        },
        {
          "output_type": "display_data",
          "data": {
            "text/plain": [
              "<IPython.core.display.Markdown object>"
            ],
            "text/markdown": "> **model**: **País** | **Presidente Atual**\n> ------- | --------\n> Argentina | Alberto Fernández\n> Bolívia | Luis Arce\n> Brasil | Luiz Inácio Lula da Silva\n> Chile | Gabriel Boric\n> Colômbia | Gustavo Petro\n> Costa Rica | Rodrigo Chaves Robles\n> Cuba | Miguel Díaz-Canel\n> Equador | Guillermo Lasso\n> El Salvador | Nayib Bukele\n> Guatemala | Alejandro Giammattei\n> Guiana | Irfaan Ali\n> Haiti | Ariel Henry (interino)\n> Honduras | Xiomara Castro\n> Jamaica | Andrew Holness\n> México | Andrés Manuel López Obrador\n> Nicarágua | Daniel Ortega\n> Panamá | Laurentino Cortizo\n> Paraguai | Mario Abdo Benítez\n> Peru | Dina Boluarte (interina)\n> República Dominicana | Luis Abinader\n> Suriname | Chandrikapersad Santokhi\n> Trinidad e Tobago | Keith Rowley\n> Uruguai | Luis Lacalle Pou\n> Venezuela | Nicolás Maduro"
          },
          "metadata": {}
        },
        {
          "output_type": "stream",
          "name": "stdout",
          "text": [
            "----------------------------------------------------------------------------------------------------\n"
          ]
        }
      ]
    }
  ]
}